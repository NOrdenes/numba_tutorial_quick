{
 "cells": [
  {
   "cell_type": "markdown",
   "metadata": {},
   "source": [
    "## Exercise: Clipping an array"
   ]
  },
  {
   "cell_type": "markdown",
   "metadata": {},
   "source": [
    "Yes, NumPy has a `clip` ufunc already, but let's pretend it doesn't.  \n",
    "\n",
    "Create a Numba vectorized ufunc that takes a vector `a`, a lower limit `amin` and an upper limit `amax`.  It should return the vector `a` with all values clipped such that $a_{min} < a < a_{max}$\n"
   ]
  },
  {
   "cell_type": "code",
   "execution_count": 4,
   "metadata": {
    "collapsed": true
   },
   "outputs": [],
   "source": [
    "from numba import vectorize\n",
    "import numpy"
   ]
  },
  {
   "cell_type": "code",
   "execution_count": 22,
   "metadata": {
    "collapsed": false
   },
   "outputs": [],
   "source": [
    "@vectorize\n",
    "def clip_matrix(a,amax,amin):\n",
    "    \n",
    "    assert amax > amin\n",
    "    \n",
    "    if a < amin:\n",
    "        a = amin\n",
    "    elif a > amax:\n",
    "        a = amax\n",
    "    return a"
   ]
  },
  {
   "cell_type": "code",
   "execution_count": 25,
   "metadata": {
    "collapsed": false
   },
   "outputs": [
    {
     "name": "stdout",
     "output_type": "stream",
     "text": [
      "[[ 0.17778517  2.36475549  0.02082505  1.95497521  2.52375492]\n",
      " [ 4.71375963  9.12189915  1.34488985  8.83783545  5.34867519]\n",
      " [ 9.28062826  7.82926841  8.20544801  0.36984259  7.63630593]\n",
      " [ 0.93803823  7.70971214  3.68832786  5.80772556  9.22629522]\n",
      " [ 8.84952689  0.8211257   3.90769931  3.47682095  7.25471639]]\n"
     ]
    },
    {
     "data": {
      "text/plain": [
       "array([[ 3.        ,  3.        ,  3.        ,  3.        ,  3.        ],\n",
       "       [ 4.71375963,  7.        ,  3.        ,  7.        ,  5.34867519],\n",
       "       [ 7.        ,  7.        ,  7.        ,  3.        ,  7.        ],\n",
       "       [ 3.        ,  7.        ,  3.68832786,  5.80772556,  7.        ],\n",
       "       [ 7.        ,  3.        ,  3.90769931,  3.47682095,  7.        ]])"
      ]
     },
     "execution_count": 25,
     "metadata": {},
     "output_type": "execute_result"
    }
   ],
   "source": [
    "M = numpy.random.random((5,5))\n",
    "\n",
    "M = M*10\n",
    "print(M)\n",
    "\n",
    "mn = 3\n",
    "mx = 7\n",
    "\n",
    "clip_matrix(M,mx,mn)"
   ]
  },
  {
   "cell_type": "markdown",
   "metadata": {},
   "source": [
    "## Exercise: Create `logit` ufunc"
   ]
  },
  {
   "cell_type": "markdown",
   "metadata": {},
   "source": [
    "Recall from above that this is a ufunc which performs this operation:\n",
    "\n",
    "$$f(a) = \\log \\left(\\frac{a}{1-a}\\right)$$"
   ]
  },
  {
   "cell_type": "code",
   "execution_count": null,
   "metadata": {
    "collapsed": true
   },
   "outputs": [],
   "source": []
  }
 ],
 "metadata": {
  "anaconda-cloud": {},
  "kernelspec": {
   "display_name": "Python [default]",
   "language": "python",
   "name": "python3"
  },
  "language_info": {
   "codemirror_mode": {
    "name": "ipython",
    "version": 3
   },
   "file_extension": ".py",
   "mimetype": "text/x-python",
   "name": "python",
   "nbconvert_exporter": "python",
   "pygments_lexer": "ipython3",
   "version": "3.5.2"
  }
 },
 "nbformat": 4,
 "nbformat_minor": 0
}
